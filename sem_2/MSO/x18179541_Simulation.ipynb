{
 "cells": [
  {
   "cell_type": "markdown",
   "metadata": {},
   "source": [
    "# Simulating and Optimizing Trains, Passengers and Travelling Time by varying Signalling Blocks and Weather conditions using Possion  Distribution"
   ]
  },
  {
   "cell_type": "markdown",
   "metadata": {
    "toc": true
   },
   "source": [
    "<h1>Table of Contents<span class=\"tocSkip\"></span></h1>\n",
    "<div class=\"toc\"><ul class=\"toc-item\"><li><span><a href=\"#Introduction\" data-toc-modified-id=\"Introduction-1\"><span class=\"toc-item-num\">1&nbsp;&nbsp;</span>Introduction</a></span></li><li><span><a href=\"#Dataset-Creation\" data-toc-modified-id=\"Dataset-Creation-2\"><span class=\"toc-item-num\">2&nbsp;&nbsp;</span>Dataset Creation</a></span></li><li><span><a href=\"#Data-for-Simulation\" data-toc-modified-id=\"Data-for-Simulation-3\"><span class=\"toc-item-num\">3&nbsp;&nbsp;</span>Data for Simulation</a></span></li><li><span><a href=\"#Pictorial-Representation-of-HS2-Line\" data-toc-modified-id=\"Pictorial-Representation-of-HS2-Line-4\"><span class=\"toc-item-num\">4&nbsp;&nbsp;</span>Pictorial Representation of HS2 Line</a></span></li><li><span><a href=\"#Define-Process\" data-toc-modified-id=\"Define-Process-5\"><span class=\"toc-item-num\">5&nbsp;&nbsp;</span>Define Process</a></span></li><li><span><a href=\"#Line-Function\" data-toc-modified-id=\"Line-Function-6\"><span class=\"toc-item-num\">6&nbsp;&nbsp;</span>Line Function</a></span></li><li><span><a href=\"#Final-Simulation-Result\" data-toc-modified-id=\"Final-Simulation-Result-7\"><span class=\"toc-item-num\">7&nbsp;&nbsp;</span>Final Simulation Result</a></span></li><li><span><a href=\"#Conclusion\" data-toc-modified-id=\"Conclusion-8\"><span class=\"toc-item-num\">8&nbsp;&nbsp;</span>Conclusion</a></span></li></ul></div>"
   ]
  },
  {
   "cell_type": "markdown",
   "metadata": {},
   "source": [
    "## Introduction\n",
    "\n",
    "\n",
    "<font size=\"3\">The main objective of this research work is to simulate a maximum number of trains in an hour by varying the number of blocks from 1 to 14 between station __'London Old Oak Common' and 'Birmingham Interchange'__ of high-speed train planned __HS2 line__ from London to Birmingham. As part of optimization two major objectives are considered. Firstly, minimizing the average travelling time includes driving time, dwell time and weather conditions. The second one is to maximize the number of passengers in an hour. Almost all aspects of the project descriptions like acceleration, deceleration, max velocity, time to reach max speed, time to decelerate back to 0 from max speed, weather conditions, max passengers per train and the maximum average waiting time are considered.</font>"
   ]
  },
  {
   "cell_type": "code",
   "execution_count": 5,
   "metadata": {},
   "outputs": [],
   "source": [
    "#Import Neccessary Packages\n",
    "\n",
    "import pandas as pd \n",
    "import pandas as pd\n",
    "import matplotlib as mpl\n",
    "import matplotlib.pyplot as plt\n",
    "import scipy.stats as stats\n",
    "import math\n",
    "import numpy as np\n",
    "import time\n",
    "import random\n",
    "from numpy import random\n",
    "import simpy\n",
    "import simpy.events as evt\n",
    "pd.options.mode.chained_assignment = None"
   ]
  },
  {
   "cell_type": "markdown",
   "metadata": {},
   "source": [
    "## Dataset Creation"
   ]
  },
  {
   "cell_type": "code",
   "execution_count": 31,
   "metadata": {},
   "outputs": [],
   "source": [
    "# Dataset Creation\n",
    "\n",
    "class dataset:\n",
    "   # Dataset with number of blocks needs to be passed as Input \n",
    "    def __init__(self, total_block):\n",
    "        self.total_block = total_block\n",
    "\n",
    "    # Block b1 and b3 are stationary and b2 is created dynamical\n",
    "    def blocks(self):\n",
    "        total_block = self.total_block\n",
    "        b1 = 1\n",
    "        b3 = 2\n",
    "        b2 = (total_block - b1 - b3)\n",
    "        return b1, b2, b3    \n",
    "\n",
    "    # Split blocks according to stations\n",
    "    def split_block(self):\n",
    "        blocks = self.blocks\n",
    "        b1, b2, b3 = blocks()\n",
    "        y = b1 + b2 + b3 + 3\n",
    "        return y\n",
    "    \n",
    "    # DataFrame creation and assigning initial value to the stations\n",
    "    def create_dataframe(self):\n",
    "        # Dummy DataFrame creation    \n",
    "        data = pd.DataFrame()\n",
    "        split_block = self.split_block\n",
    "        for i in range(split_block()):\n",
    "            data.at[i, 'block_number'] = i+1\n",
    "            data.at[i, 'from_location'] = 'S' + str(i+1)\n",
    "            data.at[i, 'to_location'] = 'S' + str(i+2)\n",
    "        return data\n",
    "    \n",
    "    # Allocating Actual Station name to the blocks\n",
    "    def station_name(self, data):\n",
    "        blocks = self.blocks\n",
    "        a, b, c = blocks()\n",
    "        data = self.create_dataframe()\n",
    "        \n",
    "        x = 0\n",
    "        data['from_location'][x] = 'London Euston' \n",
    "\n",
    "        x += 1\n",
    "        data['to_location'][x] = 'London Old Oak Common'\n",
    "        data['from_location'][x+1] = 'London Old Oak Common'\n",
    "\n",
    "        x = x + b + 1\n",
    "        data['to_location'][x] = 'Birmingham Interchange'\n",
    "        data['from_location'][x+1] = 'Birmingham Interchange'\n",
    "\n",
    "        x = x + c + 1\n",
    "        data['to_location'][x] = 'Birmingham Curzon Street'\n",
    "        return data\n",
    "    \n",
    "    # disTo function to calculate distance based on time\n",
    "    def disTo(self,T,maxV=83.3, A=0.72,D=0.36):\n",
    "        \"\"\"\n",
    "        A       constant acceleration, m/s²\n",
    "        D       constant deceleration, m/s²\n",
    "        maxV    maximumum velocity, m/s\n",
    "        d       distance, km\n",
    "        return  time in seconds required to travel\n",
    "        \"\"\"\n",
    "        \n",
    "        tA = maxV/A         # time to accelerate to maxV\n",
    "        tD = maxV/D         # time to decelerate to 0 from maxV\n",
    "        t = tD + tA         # total acc + dec\n",
    "        #print(t)\n",
    "        \n",
    "        dA = (A*tA*tA+D*tD*tD)/2   # distance traveled during acceleration from 0 to maxV and back to 0\n",
    "        if (T < t):                # train never reaches full speed?\n",
    "            return np.sqrt(4.0*d/(A*D)) # time needed to accelerate to half-way point then decelerate to destination\n",
    "        else:\n",
    "            return dA + (T-t)*maxV   # time to accelerate to maxV plus travel at maxV plus decelerate to destination\n",
    "    \n",
    "    # Distance allocation to each blocks equally based on number of blocks\n",
    "    def final_dataset(self, data):\n",
    "        blocks = self.blocks\n",
    "        a, b, c = blocks()\n",
    "        k = (self.split_block() - 3)\n",
    "        data = self.station_name(data)        \n",
    "        \n",
    "        distance_1 = self.disTo(300)        \n",
    "        distance_1_split = distance_1 / (a+1)\n",
    "        distance_2 = 145000\n",
    "        distance_2_split = distance_2 / (b+1)\n",
    "        distance_3 = self.disTo(540)\n",
    "        distance_3_split = distance_3 / (c+1)\n",
    "        \n",
    "        data['distance'] =''\n",
    "        data['running_time'] =''\n",
    "        \n",
    "        # Splitting distance equally between the stations\n",
    "        for x in range(a+1):    \n",
    "            data['distance'][x] = distance_1_split\n",
    "            data['running_time'][x] = 300/(a+1)\n",
    "        \n",
    "        for y in range(a+1, k):\n",
    "            data['distance'][y] = distance_2_split\n",
    "            data['running_time'][y] = 1860/(b+1)\n",
    "        \n",
    "        for z in range(k, k+3):\n",
    "            data['distance'][z] = distance_3_split\n",
    "            data['running_time'][z] = 540/(c+1)\n",
    "        \n",
    "        return data"
   ]
  },
  {
   "cell_type": "code",
   "execution_count": 32,
   "metadata": {},
   "outputs": [],
   "source": [
    "# Tune the number of block split from 4 to 17\n",
    "a = dataset(4)"
   ]
  },
  {
   "cell_type": "markdown",
   "metadata": {},
   "source": [
    "<font size=\"3\">This Split block will be constant from London Euston to London Old Oak Common and Birmingham Interchange to Birmingham Curzon Street stations. The number of blocks between London Old Oak Common to Birmingham Interchange vary from 1 to 14.</font>"
   ]
  },
  {
   "cell_type": "code",
   "execution_count": 33,
   "metadata": {},
   "outputs": [
    {
     "data": {
      "text/plain": [
       "7"
      ]
     },
     "execution_count": 33,
     "metadata": {},
     "output_type": "execute_result"
    }
   ],
   "source": [
    "# Split Block Object stored in a variable.\n",
    "y = a.split_block()\n",
    "y"
   ]
  },
  {
   "cell_type": "code",
   "execution_count": 34,
   "metadata": {},
   "outputs": [],
   "source": [
    "# Dataset from Class is called and stored in a variable\n",
    "data = a.final_dataset(a.station_name(a.create_dataframe()))"
   ]
  },
  {
   "cell_type": "markdown",
   "metadata": {},
   "source": [
    "<font size=\"3\">View Data from the class dataset</font>"
   ]
  },
  {
   "cell_type": "code",
   "execution_count": 6,
   "metadata": {},
   "outputs": [
    {
     "data": {
      "text/html": [
       "<div>\n",
       "<style scoped>\n",
       "    .dataframe tbody tr th:only-of-type {\n",
       "        vertical-align: middle;\n",
       "    }\n",
       "\n",
       "    .dataframe tbody tr th {\n",
       "        vertical-align: top;\n",
       "    }\n",
       "\n",
       "    .dataframe thead th {\n",
       "        text-align: right;\n",
       "    }\n",
       "</style>\n",
       "<table border=\"1\" class=\"dataframe\">\n",
       "  <thead>\n",
       "    <tr style=\"text-align: right;\">\n",
       "      <th></th>\n",
       "      <th>block_number</th>\n",
       "      <th>from_location</th>\n",
       "      <th>to_location</th>\n",
       "      <th>distance</th>\n",
       "      <th>running_time</th>\n",
       "    </tr>\n",
       "  </thead>\n",
       "  <tbody>\n",
       "    <tr>\n",
       "      <th>0</th>\n",
       "      <td>1.0</td>\n",
       "      <td>London Euston</td>\n",
       "      <td>S2</td>\n",
       "      <td>5400</td>\n",
       "      <td>150</td>\n",
       "    </tr>\n",
       "    <tr>\n",
       "      <th>1</th>\n",
       "      <td>2.0</td>\n",
       "      <td>S2</td>\n",
       "      <td>London Old Oak Common</td>\n",
       "      <td>5400</td>\n",
       "      <td>150</td>\n",
       "    </tr>\n",
       "    <tr>\n",
       "      <th>2</th>\n",
       "      <td>3.0</td>\n",
       "      <td>London Old Oak Common</td>\n",
       "      <td>S4</td>\n",
       "      <td>72500</td>\n",
       "      <td>930</td>\n",
       "    </tr>\n",
       "    <tr>\n",
       "      <th>3</th>\n",
       "      <td>4.0</td>\n",
       "      <td>S4</td>\n",
       "      <td>Birmingham Interchange</td>\n",
       "      <td>72500</td>\n",
       "      <td>930</td>\n",
       "    </tr>\n",
       "    <tr>\n",
       "      <th>4</th>\n",
       "      <td>5.0</td>\n",
       "      <td>Birmingham Interchange</td>\n",
       "      <td>S6</td>\n",
       "      <td>10175.3</td>\n",
       "      <td>180</td>\n",
       "    </tr>\n",
       "    <tr>\n",
       "      <th>5</th>\n",
       "      <td>6.0</td>\n",
       "      <td>S6</td>\n",
       "      <td>S7</td>\n",
       "      <td>10175.3</td>\n",
       "      <td>180</td>\n",
       "    </tr>\n",
       "    <tr>\n",
       "      <th>6</th>\n",
       "      <td>7.0</td>\n",
       "      <td>S7</td>\n",
       "      <td>Birmingham Curzon Street</td>\n",
       "      <td>10175.3</td>\n",
       "      <td>180</td>\n",
       "    </tr>\n",
       "  </tbody>\n",
       "</table>\n",
       "</div>"
      ],
      "text/plain": [
       "   block_number           from_location               to_location distance  \\\n",
       "0           1.0           London Euston                        S2     5400   \n",
       "1           2.0                      S2     London Old Oak Common     5400   \n",
       "2           3.0   London Old Oak Common                        S4    72500   \n",
       "3           4.0                      S4    Birmingham Interchange    72500   \n",
       "4           5.0  Birmingham Interchange                        S6  10175.3   \n",
       "5           6.0                      S6                        S7  10175.3   \n",
       "6           7.0                      S7  Birmingham Curzon Street  10175.3   \n",
       "\n",
       "  running_time  \n",
       "0          150  \n",
       "1          150  \n",
       "2          930  \n",
       "3          930  \n",
       "4          180  \n",
       "5          180  \n",
       "6          180  "
      ]
     },
     "execution_count": 6,
     "metadata": {},
     "output_type": "execute_result"
    }
   ],
   "source": [
    "data"
   ]
  },
  {
   "cell_type": "markdown",
   "metadata": {},
   "source": [
    " <font size=\"3\">Time to travel a given distance based on acceleration, deceleration, time to accelerate, time to decelerate and max velocity.</font>"
   ]
  },
  {
   "cell_type": "code",
   "execution_count": 7,
   "metadata": {},
   "outputs": [],
   "source": [
    "def timeTo(A,D, maxV, d):\n",
    "    \"\"\"\n",
    "    A       constant acceleration, m/s² - 0.72m/s²\n",
    "    D       constant deceleration, m/s² - 0.36m/s²\n",
    "    maxV    maximumum velocity, m/s - 83.3 m/s\n",
    "    d       distance, km\n",
    "    return  time in seconds required to travel\n",
    "    \"\"\"\n",
    "    tA = 115.7          # time to accelerate to maxV\n",
    "    tD = 231.4          # time to decelerate from maxV to 0\n",
    "    #A = 0.72            \n",
    "    #D = 0.36            \n",
    "    dA = 14460                # distance traveled during acceleration from 0 to maxV and back to 0\n",
    "    if (d < dA):                # train never reaches full speed?\n",
    "        return np.sqrt(4.0*(d/(A*D))) # time needed to accelerate to 1/3rd-way point then decelerate to destination\n",
    "    else:\n",
    "        return tD+tA + (d-dA)/maxV   # time to accelerate to maxV plus travel at maxV plus decelerate to destination"
   ]
  },
  {
   "cell_type": "markdown",
   "metadata": {},
   "source": [
    "<font size=\"3\">Unique Block number is taken from a dataset and stored in another dataframe</font>"
   ]
  },
  {
   "cell_type": "code",
   "execution_count": 8,
   "metadata": {},
   "outputs": [
    {
     "data": {
      "text/html": [
       "<div>\n",
       "<style scoped>\n",
       "    .dataframe tbody tr th:only-of-type {\n",
       "        vertical-align: middle;\n",
       "    }\n",
       "\n",
       "    .dataframe tbody tr th {\n",
       "        vertical-align: top;\n",
       "    }\n",
       "\n",
       "    .dataframe thead th {\n",
       "        text-align: right;\n",
       "    }\n",
       "</style>\n",
       "<table border=\"1\" class=\"dataframe\">\n",
       "  <thead>\n",
       "    <tr style=\"text-align: right;\">\n",
       "      <th></th>\n",
       "    </tr>\n",
       "    <tr>\n",
       "      <th>block_number</th>\n",
       "    </tr>\n",
       "  </thead>\n",
       "  <tbody>\n",
       "    <tr>\n",
       "      <th>1.0</th>\n",
       "    </tr>\n",
       "    <tr>\n",
       "      <th>2.0</th>\n",
       "    </tr>\n",
       "    <tr>\n",
       "      <th>3.0</th>\n",
       "    </tr>\n",
       "    <tr>\n",
       "      <th>4.0</th>\n",
       "    </tr>\n",
       "    <tr>\n",
       "      <th>5.0</th>\n",
       "    </tr>\n",
       "    <tr>\n",
       "      <th>6.0</th>\n",
       "    </tr>\n",
       "    <tr>\n",
       "      <th>7.0</th>\n",
       "    </tr>\n",
       "  </tbody>\n",
       "</table>\n",
       "</div>"
      ],
      "text/plain": [
       "Empty DataFrame\n",
       "Columns: []\n",
       "Index: [1.0, 2.0, 3.0, 4.0, 5.0, 6.0, 7.0]"
      ]
     },
     "execution_count": 8,
     "metadata": {},
     "output_type": "execute_result"
    }
   ],
   "source": [
    "block=data['block_number'].unique()\n",
    "dl=pd.DataFrame(block, columns=['block_number'])\n",
    "dl=dl.set_index('block_number')\n",
    "dl"
   ]
  },
  {
   "cell_type": "markdown",
   "metadata": {},
   "source": [
    "<font size=\"3\">Running time from the dataset is taken and assigned to a new column 't'</font>"
   ]
  },
  {
   "cell_type": "code",
   "execution_count": 9,
   "metadata": {},
   "outputs": [],
   "source": [
    "for i in range(len(data)):\n",
    "    t1=data.at[i,'running_time']\n",
    "    data.at[i, 't']=t1"
   ]
  },
  {
   "cell_type": "markdown",
   "metadata": {},
   "source": [
    "<font size=\"3\">a, d and v values are constant and added to the data</font>"
   ]
  },
  {
   "cell_type": "code",
   "execution_count": 10,
   "metadata": {},
   "outputs": [],
   "source": [
    "data['d']=0.36\n",
    "data['a']=0.72\n",
    "data['v']=83.3"
   ]
  },
  {
   "cell_type": "markdown",
   "metadata": {},
   "source": [
    "<font size=\"3\">max value of a, d and v</font>"
   ]
  },
  {
   "cell_type": "code",
   "execution_count": 11,
   "metadata": {},
   "outputs": [
    {
     "data": {
      "text/html": [
       "<div>\n",
       "<style scoped>\n",
       "    .dataframe tbody tr th:only-of-type {\n",
       "        vertical-align: middle;\n",
       "    }\n",
       "\n",
       "    .dataframe tbody tr th {\n",
       "        vertical-align: top;\n",
       "    }\n",
       "\n",
       "    .dataframe thead th {\n",
       "        text-align: right;\n",
       "    }\n",
       "</style>\n",
       "<table border=\"1\" class=\"dataframe\">\n",
       "  <thead>\n",
       "    <tr style=\"text-align: right;\">\n",
       "      <th></th>\n",
       "      <th>max a</th>\n",
       "      <th>max d</th>\n",
       "      <th>max v</th>\n",
       "    </tr>\n",
       "    <tr>\n",
       "      <th>block_number</th>\n",
       "      <th></th>\n",
       "      <th></th>\n",
       "      <th></th>\n",
       "    </tr>\n",
       "  </thead>\n",
       "  <tbody>\n",
       "    <tr>\n",
       "      <th>1.0</th>\n",
       "      <td>0.72</td>\n",
       "      <td>0.36</td>\n",
       "      <td>83.3</td>\n",
       "    </tr>\n",
       "    <tr>\n",
       "      <th>2.0</th>\n",
       "      <td>0.72</td>\n",
       "      <td>0.36</td>\n",
       "      <td>83.3</td>\n",
       "    </tr>\n",
       "    <tr>\n",
       "      <th>3.0</th>\n",
       "      <td>0.72</td>\n",
       "      <td>0.36</td>\n",
       "      <td>83.3</td>\n",
       "    </tr>\n",
       "    <tr>\n",
       "      <th>4.0</th>\n",
       "      <td>0.72</td>\n",
       "      <td>0.36</td>\n",
       "      <td>83.3</td>\n",
       "    </tr>\n",
       "    <tr>\n",
       "      <th>5.0</th>\n",
       "      <td>0.72</td>\n",
       "      <td>0.36</td>\n",
       "      <td>83.3</td>\n",
       "    </tr>\n",
       "    <tr>\n",
       "      <th>6.0</th>\n",
       "      <td>0.72</td>\n",
       "      <td>0.36</td>\n",
       "      <td>83.3</td>\n",
       "    </tr>\n",
       "    <tr>\n",
       "      <th>7.0</th>\n",
       "      <td>0.72</td>\n",
       "      <td>0.36</td>\n",
       "      <td>83.3</td>\n",
       "    </tr>\n",
       "  </tbody>\n",
       "</table>\n",
       "</div>"
      ],
      "text/plain": [
       "              max a  max d  max v\n",
       "block_number                     \n",
       "1.0            0.72   0.36   83.3\n",
       "2.0            0.72   0.36   83.3\n",
       "3.0            0.72   0.36   83.3\n",
       "4.0            0.72   0.36   83.3\n",
       "5.0            0.72   0.36   83.3\n",
       "6.0            0.72   0.36   83.3\n",
       "7.0            0.72   0.36   83.3"
      ]
     },
     "execution_count": 11,
     "metadata": {},
     "output_type": "execute_result"
    }
   ],
   "source": [
    "for b in block:\n",
    "    dl.at[b, 'max a']=data[data['block_number']==b]['a'].max()\n",
    "    dl.at[b, 'max d']=data[data['block_number']==b]['d'].max()\n",
    "    dl.at[b, 'max v']=data[data['block_number']==b]['v'].max()\n",
    "dl"
   ]
  },
  {
   "cell_type": "code",
   "execution_count": 12,
   "metadata": {},
   "outputs": [
    {
     "data": {
      "text/html": [
       "<div>\n",
       "<style scoped>\n",
       "    .dataframe tbody tr th:only-of-type {\n",
       "        vertical-align: middle;\n",
       "    }\n",
       "\n",
       "    .dataframe tbody tr th {\n",
       "        vertical-align: top;\n",
       "    }\n",
       "\n",
       "    .dataframe thead th {\n",
       "        text-align: right;\n",
       "    }\n",
       "</style>\n",
       "<table border=\"1\" class=\"dataframe\">\n",
       "  <thead>\n",
       "    <tr style=\"text-align: right;\">\n",
       "      <th></th>\n",
       "      <th>block_number</th>\n",
       "      <th>from_location</th>\n",
       "      <th>to_location</th>\n",
       "      <th>distance</th>\n",
       "      <th>running_time</th>\n",
       "      <th>t</th>\n",
       "      <th>d</th>\n",
       "      <th>a</th>\n",
       "      <th>v</th>\n",
       "    </tr>\n",
       "  </thead>\n",
       "  <tbody>\n",
       "    <tr>\n",
       "      <th>0</th>\n",
       "      <td>1.0</td>\n",
       "      <td>London Euston</td>\n",
       "      <td>S2</td>\n",
       "      <td>5400</td>\n",
       "      <td>150</td>\n",
       "      <td>150.0</td>\n",
       "      <td>0.36</td>\n",
       "      <td>0.72</td>\n",
       "      <td>83.3</td>\n",
       "    </tr>\n",
       "    <tr>\n",
       "      <th>1</th>\n",
       "      <td>2.0</td>\n",
       "      <td>S2</td>\n",
       "      <td>London Old Oak Common</td>\n",
       "      <td>5400</td>\n",
       "      <td>150</td>\n",
       "      <td>150.0</td>\n",
       "      <td>0.36</td>\n",
       "      <td>0.72</td>\n",
       "      <td>83.3</td>\n",
       "    </tr>\n",
       "    <tr>\n",
       "      <th>2</th>\n",
       "      <td>3.0</td>\n",
       "      <td>London Old Oak Common</td>\n",
       "      <td>S4</td>\n",
       "      <td>72500</td>\n",
       "      <td>930</td>\n",
       "      <td>930.0</td>\n",
       "      <td>0.36</td>\n",
       "      <td>0.72</td>\n",
       "      <td>83.3</td>\n",
       "    </tr>\n",
       "    <tr>\n",
       "      <th>3</th>\n",
       "      <td>4.0</td>\n",
       "      <td>S4</td>\n",
       "      <td>Birmingham Interchange</td>\n",
       "      <td>72500</td>\n",
       "      <td>930</td>\n",
       "      <td>930.0</td>\n",
       "      <td>0.36</td>\n",
       "      <td>0.72</td>\n",
       "      <td>83.3</td>\n",
       "    </tr>\n",
       "    <tr>\n",
       "      <th>4</th>\n",
       "      <td>5.0</td>\n",
       "      <td>Birmingham Interchange</td>\n",
       "      <td>S6</td>\n",
       "      <td>10175.3</td>\n",
       "      <td>180</td>\n",
       "      <td>180.0</td>\n",
       "      <td>0.36</td>\n",
       "      <td>0.72</td>\n",
       "      <td>83.3</td>\n",
       "    </tr>\n",
       "    <tr>\n",
       "      <th>5</th>\n",
       "      <td>6.0</td>\n",
       "      <td>S6</td>\n",
       "      <td>S7</td>\n",
       "      <td>10175.3</td>\n",
       "      <td>180</td>\n",
       "      <td>180.0</td>\n",
       "      <td>0.36</td>\n",
       "      <td>0.72</td>\n",
       "      <td>83.3</td>\n",
       "    </tr>\n",
       "    <tr>\n",
       "      <th>6</th>\n",
       "      <td>7.0</td>\n",
       "      <td>S7</td>\n",
       "      <td>Birmingham Curzon Street</td>\n",
       "      <td>10175.3</td>\n",
       "      <td>180</td>\n",
       "      <td>180.0</td>\n",
       "      <td>0.36</td>\n",
       "      <td>0.72</td>\n",
       "      <td>83.3</td>\n",
       "    </tr>\n",
       "  </tbody>\n",
       "</table>\n",
       "</div>"
      ],
      "text/plain": [
       "   block_number           from_location               to_location distance  \\\n",
       "0           1.0           London Euston                        S2     5400   \n",
       "1           2.0                      S2     London Old Oak Common     5400   \n",
       "2           3.0   London Old Oak Common                        S4    72500   \n",
       "3           4.0                      S4    Birmingham Interchange    72500   \n",
       "4           5.0  Birmingham Interchange                        S6  10175.3   \n",
       "5           6.0                      S6                        S7  10175.3   \n",
       "6           7.0                      S7  Birmingham Curzon Street  10175.3   \n",
       "\n",
       "  running_time      t     d     a     v  \n",
       "0          150  150.0  0.36  0.72  83.3  \n",
       "1          150  150.0  0.36  0.72  83.3  \n",
       "2          930  930.0  0.36  0.72  83.3  \n",
       "3          930  930.0  0.36  0.72  83.3  \n",
       "4          180  180.0  0.36  0.72  83.3  \n",
       "5          180  180.0  0.36  0.72  83.3  \n",
       "6          180  180.0  0.36  0.72  83.3  "
      ]
     },
     "execution_count": 12,
     "metadata": {},
     "output_type": "execute_result"
    }
   ],
   "source": [
    "data"
   ]
  },
  {
   "cell_type": "markdown",
   "metadata": {},
   "source": [
    "<font size=\"3\">Values of a, v, d and distance is passed to timeTo function</font>"
   ]
  },
  {
   "cell_type": "code",
   "execution_count": 13,
   "metadata": {},
   "outputs": [],
   "source": [
    "import numpy as np\n",
    "for i in range(len(data)):\n",
    "    b=data.iat[i, 0]\n",
    "    a=dl.at[b, 'max a']\n",
    "    v=dl.at[b, 'max v']\n",
    "    d=dl.at[b, 'max d']\n",
    "    data.at[i,'Drive_Time']=int(timeTo(a, d, v, data.at[i,'distance']))"
   ]
  },
  {
   "cell_type": "code",
   "execution_count": 14,
   "metadata": {},
   "outputs": [],
   "source": [
    "# Remove unneccessary columns\n",
    "data = data.drop(columns=['t', 'a', 'v', 'd', 'running_time'])"
   ]
  },
  {
   "cell_type": "code",
   "execution_count": 15,
   "metadata": {},
   "outputs": [
    {
     "data": {
      "text/html": [
       "<div>\n",
       "<style scoped>\n",
       "    .dataframe tbody tr th:only-of-type {\n",
       "        vertical-align: middle;\n",
       "    }\n",
       "\n",
       "    .dataframe tbody tr th {\n",
       "        vertical-align: top;\n",
       "    }\n",
       "\n",
       "    .dataframe thead th {\n",
       "        text-align: right;\n",
       "    }\n",
       "</style>\n",
       "<table border=\"1\" class=\"dataframe\">\n",
       "  <thead>\n",
       "    <tr style=\"text-align: right;\">\n",
       "      <th></th>\n",
       "      <th>block_number</th>\n",
       "      <th>from_location</th>\n",
       "      <th>to_location</th>\n",
       "      <th>distance</th>\n",
       "      <th>Drive_Time</th>\n",
       "    </tr>\n",
       "  </thead>\n",
       "  <tbody>\n",
       "    <tr>\n",
       "      <th>0</th>\n",
       "      <td>1.0</td>\n",
       "      <td>London Euston</td>\n",
       "      <td>S2</td>\n",
       "      <td>5400</td>\n",
       "      <td>288.0</td>\n",
       "    </tr>\n",
       "    <tr>\n",
       "      <th>1</th>\n",
       "      <td>2.0</td>\n",
       "      <td>S2</td>\n",
       "      <td>London Old Oak Common</td>\n",
       "      <td>5400</td>\n",
       "      <td>288.0</td>\n",
       "    </tr>\n",
       "    <tr>\n",
       "      <th>2</th>\n",
       "      <td>3.0</td>\n",
       "      <td>London Old Oak Common</td>\n",
       "      <td>S4</td>\n",
       "      <td>72500</td>\n",
       "      <td>1043.0</td>\n",
       "    </tr>\n",
       "    <tr>\n",
       "      <th>3</th>\n",
       "      <td>4.0</td>\n",
       "      <td>S4</td>\n",
       "      <td>Birmingham Interchange</td>\n",
       "      <td>72500</td>\n",
       "      <td>1043.0</td>\n",
       "    </tr>\n",
       "    <tr>\n",
       "      <th>4</th>\n",
       "      <td>5.0</td>\n",
       "      <td>Birmingham Interchange</td>\n",
       "      <td>S6</td>\n",
       "      <td>10175.3</td>\n",
       "      <td>396.0</td>\n",
       "    </tr>\n",
       "    <tr>\n",
       "      <th>5</th>\n",
       "      <td>6.0</td>\n",
       "      <td>S6</td>\n",
       "      <td>S7</td>\n",
       "      <td>10175.3</td>\n",
       "      <td>396.0</td>\n",
       "    </tr>\n",
       "    <tr>\n",
       "      <th>6</th>\n",
       "      <td>7.0</td>\n",
       "      <td>S7</td>\n",
       "      <td>Birmingham Curzon Street</td>\n",
       "      <td>10175.3</td>\n",
       "      <td>396.0</td>\n",
       "    </tr>\n",
       "  </tbody>\n",
       "</table>\n",
       "</div>"
      ],
      "text/plain": [
       "   block_number           from_location               to_location distance  \\\n",
       "0           1.0           London Euston                        S2     5400   \n",
       "1           2.0                      S2     London Old Oak Common     5400   \n",
       "2           3.0   London Old Oak Common                        S4    72500   \n",
       "3           4.0                      S4    Birmingham Interchange    72500   \n",
       "4           5.0  Birmingham Interchange                        S6  10175.3   \n",
       "5           6.0                      S6                        S7  10175.3   \n",
       "6           7.0                      S7  Birmingham Curzon Street  10175.3   \n",
       "\n",
       "   Drive_Time  \n",
       "0       288.0  \n",
       "1       288.0  \n",
       "2      1043.0  \n",
       "3      1043.0  \n",
       "4       396.0  \n",
       "5       396.0  \n",
       "6       396.0  "
      ]
     },
     "execution_count": 15,
     "metadata": {},
     "output_type": "execute_result"
    }
   ],
   "source": [
    "data"
   ]
  },
  {
   "cell_type": "code",
   "execution_count": 16,
   "metadata": {},
   "outputs": [],
   "source": [
    "# Dwell time of 30 seconds is added at the stations\n",
    "data['dwell_time'] = ''\n",
    "\n",
    "for i in range(y):\n",
    "    if data['from_location'][i] in 'London Old Oak Common':\n",
    "        data['dwell_time'][i] = 30\n",
    "    elif data['from_location'][i] in 'Birmingham Interchange' :\n",
    "        data['dwell_time'][i] = 30\n",
    "    else:\n",
    "        data['dwell_time'][i] = 0"
   ]
  },
  {
   "cell_type": "markdown",
   "metadata": {},
   "source": [
    "## Data for Simulation\n",
    "<font size=\"3\">The dataset is comprised of from location, to location, distance, actual drive time and dwell time.</font>"
   ]
  },
  {
   "cell_type": "code",
   "execution_count": 17,
   "metadata": {},
   "outputs": [
    {
     "data": {
      "text/html": [
       "<div>\n",
       "<style scoped>\n",
       "    .dataframe tbody tr th:only-of-type {\n",
       "        vertical-align: middle;\n",
       "    }\n",
       "\n",
       "    .dataframe tbody tr th {\n",
       "        vertical-align: top;\n",
       "    }\n",
       "\n",
       "    .dataframe thead th {\n",
       "        text-align: right;\n",
       "    }\n",
       "</style>\n",
       "<table border=\"1\" class=\"dataframe\">\n",
       "  <thead>\n",
       "    <tr style=\"text-align: right;\">\n",
       "      <th></th>\n",
       "      <th>block_number</th>\n",
       "      <th>from_location</th>\n",
       "      <th>to_location</th>\n",
       "      <th>distance</th>\n",
       "      <th>Drive_Time</th>\n",
       "      <th>dwell_time</th>\n",
       "    </tr>\n",
       "  </thead>\n",
       "  <tbody>\n",
       "    <tr>\n",
       "      <th>0</th>\n",
       "      <td>1.0</td>\n",
       "      <td>London Euston</td>\n",
       "      <td>S2</td>\n",
       "      <td>5400</td>\n",
       "      <td>288.0</td>\n",
       "      <td>0</td>\n",
       "    </tr>\n",
       "    <tr>\n",
       "      <th>1</th>\n",
       "      <td>2.0</td>\n",
       "      <td>S2</td>\n",
       "      <td>London Old Oak Common</td>\n",
       "      <td>5400</td>\n",
       "      <td>288.0</td>\n",
       "      <td>0</td>\n",
       "    </tr>\n",
       "    <tr>\n",
       "      <th>2</th>\n",
       "      <td>3.0</td>\n",
       "      <td>London Old Oak Common</td>\n",
       "      <td>S4</td>\n",
       "      <td>72500</td>\n",
       "      <td>1043.0</td>\n",
       "      <td>30</td>\n",
       "    </tr>\n",
       "    <tr>\n",
       "      <th>3</th>\n",
       "      <td>4.0</td>\n",
       "      <td>S4</td>\n",
       "      <td>Birmingham Interchange</td>\n",
       "      <td>72500</td>\n",
       "      <td>1043.0</td>\n",
       "      <td>0</td>\n",
       "    </tr>\n",
       "    <tr>\n",
       "      <th>4</th>\n",
       "      <td>5.0</td>\n",
       "      <td>Birmingham Interchange</td>\n",
       "      <td>S6</td>\n",
       "      <td>10175.3</td>\n",
       "      <td>396.0</td>\n",
       "      <td>30</td>\n",
       "    </tr>\n",
       "    <tr>\n",
       "      <th>5</th>\n",
       "      <td>6.0</td>\n",
       "      <td>S6</td>\n",
       "      <td>S7</td>\n",
       "      <td>10175.3</td>\n",
       "      <td>396.0</td>\n",
       "      <td>0</td>\n",
       "    </tr>\n",
       "    <tr>\n",
       "      <th>6</th>\n",
       "      <td>7.0</td>\n",
       "      <td>S7</td>\n",
       "      <td>Birmingham Curzon Street</td>\n",
       "      <td>10175.3</td>\n",
       "      <td>396.0</td>\n",
       "      <td>0</td>\n",
       "    </tr>\n",
       "  </tbody>\n",
       "</table>\n",
       "</div>"
      ],
      "text/plain": [
       "   block_number           from_location               to_location distance  \\\n",
       "0           1.0           London Euston                        S2     5400   \n",
       "1           2.0                      S2     London Old Oak Common     5400   \n",
       "2           3.0   London Old Oak Common                        S4    72500   \n",
       "3           4.0                      S4    Birmingham Interchange    72500   \n",
       "4           5.0  Birmingham Interchange                        S6  10175.3   \n",
       "5           6.0                      S6                        S7  10175.3   \n",
       "6           7.0                      S7  Birmingham Curzon Street  10175.3   \n",
       "\n",
       "   Drive_Time dwell_time  \n",
       "0       288.0          0  \n",
       "1       288.0          0  \n",
       "2      1043.0         30  \n",
       "3      1043.0          0  \n",
       "4       396.0         30  \n",
       "5       396.0          0  \n",
       "6       396.0          0  "
      ]
     },
     "execution_count": 17,
     "metadata": {},
     "output_type": "execute_result"
    }
   ],
   "source": [
    "data"
   ]
  },
  {
   "cell_type": "markdown",
   "metadata": {},
   "source": [
    "## Pictorial Representation of HS2 Line"
   ]
  },
  {
   "cell_type": "code",
   "execution_count": 4,
   "metadata": {},
   "outputs": [
    {
     "data": {
      "image/png": "[encoded data removed]",
      "text/plain": [
       "<IPython.core.display.Image object>"
      ]
     },
     "execution_count": 4,
     "metadata": {},
     "output_type": "execute_result"
    }
   ],
   "source": [
    "from IPython.display import Image\n",
    "Image(filename='MSO_Assumption.png') "
   ]
  },
  {
   "cell_type": "markdown",
   "metadata": {},
   "source": [
    "## Define Process\n",
    "\n",
    "<font size=\"3\"> Class Train has 3 functions. \n",
    "\n",
    "1) Function process which explains the varying passengers' count that uses Poisson distribution. It also simulates the number of trains per hour based on the number of blocks from input and resource allocated.\n",
    "\n",
    "2) The maximum number of passenger a Long train can hold is 70% of 630, which is 441.\n",
    "\n",
    "3) In getOff function number of passengers, got off in each station is stored and based on this getOn function can allow remaining passengers to board the train.\n",
    "\n",
    "Simpy resource [1] and poisson distribution for allocating number of passengers [2] are implemented as part of train function. </font>"
   ]
  },
  {
   "cell_type": "code",
   "execution_count": 18,
   "metadata": {},
   "outputs": [],
   "source": [
    "class Train(object):  \n",
    "    def __init__(self, env, i, counter_list, data, pass_list, maxP = 441): #70% of 630\n",
    "        self.name = ' [Train '+f\"{i:2d}\"+']'\n",
    "        self.data = data\n",
    "        block = data['block_number']\n",
    "        self.maxP = maxP\n",
    "        self.p = 0\n",
    "        self.pass_list = pass_list\n",
    "\n",
    "    def process(self): \n",
    "        tp = 0\n",
    "        for u in range(len(data['block_number'])): \n",
    "            u = random.choice(random.poisson(lam=441, size=len(data['block_number']))) #Passengers get On from LondonEuston\n",
    "        for o in range(len(data['block_number'])):\n",
    "            o = random.choice(random.poisson(lam=400, size=len(data['block_number']))) #Passengers get off- 0 first station\n",
    "        if data['from_location'][0] == 'London Euston':                \n",
    "            env.process(self.getOn(num=u, get_on_location='London Euston', get_off_location='London Old Oak Common'))           \n",
    "            tp1 = u    \n",
    "       \n",
    "        for block in data['block_number']: # number of trains per block\n",
    "            data1 = self.data[self.data['block_number'] == block]\n",
    "            stations =   data1['from_location'].to_list() \n",
    "            stations +=  [data1['to_location'].to_list()[-1]]            \n",
    "            from_location = stations[0] \n",
    "            to_location = stations[1]\n",
    "            for Location in stations[:1]:\n",
    "                data2 = self.data[self.data['from_location'] == Location]\n",
    "                ind = data2.index.tolist()\n",
    "                ind = ind[0]\n",
    "                drivetime = data2.iloc[0].at['Drive_Time'] # drive time from dataset\n",
    "                dwelltime = data2.iloc[0].at['dwell_time'] # 30 seconds waiting time in each stations\n",
    "                \n",
    "                # considering weather conditions delay from 10 to 100 seconds\n",
    "                weather_conditions = random.choice(random.poisson(lam=(10,100), size= 1)) \n",
    "                yield env.timeout(dwelltime) # dwell time at each station of 30 seconds\n",
    "                print(f\"{now():s} {self.name:s} departed from {from_location:s} for {to_location:s}\")\n",
    "                yield env.timeout(drivetime)\n",
    "                print(f\"{now():s} {self.name:s} arrived {to_location:s}\") \n",
    "                yield env.timeout(weather_conditions)\n",
    "                \n",
    "                # requesting resource for next train to stop till the block is empty\n",
    "                req = counter_list[int(block - 1)].request()\n",
    "                yield req\n",
    "                \n",
    "                # In each station number of passengers getOn and getOff are stored in tp1, tp2, tp3, tp4 and tp5 variables.\n",
    "                if (data2['to_location'][ind] == 'London Old Oak Common'):\n",
    "                    tp2 = u\n",
    "                    tp3 = o\n",
    "                    env.process(self.getOff(num=o, get_off_location=to_location))\n",
    "                    env.process(self.getOn(num=u, get_on_location=from_location,get_off_location=to_location)) \n",
    "           \n",
    "                if (data2['to_location'][ind] == 'Birmingham Interchange'):\n",
    "                    tp4 = u\n",
    "                    tp5 = o\n",
    "                    env.process(self.getOff(num=o, get_off_location=to_location))\n",
    "                    env.process(self.getOn(num=u, get_on_location=from_location,get_off_location=to_location))\n",
    "                   \n",
    "                   \n",
    "                if (data2['to_location'][ind] == 'Birmingham Curzon Street'):\n",
    "                    tp = tp1 + tp2 -tp3 +tp4 - tp5\n",
    "                    env.process(self.getOff(num= tp, get_off_location=to_location))\n",
    "                    total = tp1 + tp2 + tp4 # summation of people who getOn in each station\n",
    "                    self.pass_list.append(total)     \n",
    "            # release the resource once the train left the block\n",
    "            counter_list[int(block - 1)].release(req)\n",
    "            \n",
    "# Function calculates number of passengers got off from each stations\n",
    "    def getOff(self, num, get_off_location): \n",
    "        if self.p >= num:\n",
    "            print(\"*********************************************************************************\")\n",
    "            print(f\"{num:d} passengers got off from {self.name:s} in {get_off_location:s}\")\n",
    "            #print(\"*********************************************************************************\")\n",
    "            self.p -= num\n",
    "        else:\n",
    "            num = self.p\n",
    "            print(\"*********************************************************************************\")\n",
    "            print(f\" {self.name:s} is empty - only {num:d} passengers got off in {get_off_location:s}\")\n",
    "            #print(\"*********************************************************************************\")\n",
    "            self.p = 0\n",
    "            yield env.timeout(0)\n",
    "\n",
    " # Function calculates number of passengers boarded from each stations\n",
    "    def getOn(self, num, get_on_location, get_off_location):\n",
    "        if (self.maxP is None) or (self.p + num <= self.maxP):\n",
    "            print(\"*********************************************************************************\")\n",
    "            print(f\"{num:d} passengers got on into {self.name:s} from {get_on_location:s} \")\n",
    "            #print(\"*********************************************************************************\")\n",
    "            self.p += num\n",
    "        else:\n",
    "            num = self.maxP - self.p\n",
    "            print(\"*********************************************************************************\")\n",
    "            print(f\"{self.name:s} is full - only {num:d} passengers got on from {get_off_location:s}\")\n",
    "            #print(\"*********************************************************************************\")\n",
    "            self.p = self.maxP\n",
    "            yield env.timeout(0)"
   ]
  },
  {
   "cell_type": "markdown",
   "metadata": {},
   "source": [
    "##  Line Function \n",
    "\n",
    "<font size=\"3\"> The below function is the main function and calls Class Train and initiate the whole simulation. It also counts how many trains are passed for an hour from 6:00:00 am to 7:00:00 am.\n",
    "\n",
    "Resources are initiated to Train Class from line function.</font>"
   ]
  },
  {
   "cell_type": "code",
   "execution_count": 19,
   "metadata": {},
   "outputs": [],
   "source": [
    "def line(env, y, start=6*3600, stop=7*3600):\n",
    "    yield env.timeout(start-env.now) # line starts operating at 6am\n",
    "    global total\n",
    "    global pass_list\n",
    "    global count\n",
    "    global counter_list\n",
    "    counter_list = []\n",
    "    pass_list = []\n",
    "    count = 1    # count number of trains per hour\n",
    "    for z in range(0, y): # initiate resource based on total number of blocks\n",
    "        counter = simpy.Resource(env, capacity=1)\n",
    "        counter_list.append(counter)\n",
    "    for i in range(len(data['block_number'])): # controls trains on each block\n",
    "        t = Train(env,i, counter_list, data, pass_list)\n",
    "        env.process(t.process())        \n",
    "        #yield env.timeout(60)\n",
    "        yield env.timeout(int(data['Drive_Time'][i] + data['dwell_time'][i]) + 5)\n",
    "        if (env.now >= 21600 and env.now <= 25200): # train count from morning 6 am to 7 am\n",
    "            count += 1"
   ]
  },
  {
   "cell_type": "code",
   "execution_count": 20,
   "metadata": {},
   "outputs": [],
   "source": [
    "def daytime(t):\n",
    "    t=int(t)\n",
    "    return f\"{t//3600:02d}:{(t%3600)//60:02d}:{t%60:02d}\"\n",
    "\n",
    "def now():\n",
    "    return daytime(env.now)"
   ]
  },
  {
   "cell_type": "code",
   "execution_count": 21,
   "metadata": {},
   "outputs": [],
   "source": [
    "env = simpy.Environment()"
   ]
  },
  {
   "cell_type": "code",
   "execution_count": 22,
   "metadata": {},
   "outputs": [
    {
     "data": {
      "text/plain": [
       "<Process(line) object at 0x132ebebcfc8>"
      ]
     },
     "execution_count": 22,
     "metadata": {},
     "output_type": "execute_result"
    }
   ],
   "source": [
    "env.process(line(env,y))"
   ]
  },
  {
   "cell_type": "markdown",
   "metadata": {},
   "source": [
    "<font size=\"3\">Simulation output with number of passengers getOff, getOn in each station and train arrival and departure stations are also printed.</font>"
   ]
  },
  {
   "cell_type": "code",
   "execution_count": 23,
   "metadata": {
    "scrolled": false
   },
   "outputs": [
    {
     "name": "stdout",
     "output_type": "stream",
     "text": [
      "*********************************************************************************\n",
      "411 passengers got on into  [Train  0] from London Euston \n",
      "06:00:00  [Train  0] departed from London Euston for S2\n",
      "06:04:48  [Train  0] arrived S2\n",
      "*********************************************************************************\n",
      "428 passengers got on into  [Train  1] from London Euston \n",
      "06:04:53  [Train  1] departed from London Euston for S2\n",
      "06:04:55  [Train  0] departed from S2 for London Old Oak Common\n",
      "06:09:41  [Train  1] arrived S2\n",
      "06:09:43  [Train  0] arrived London Old Oak Common\n",
      "*********************************************************************************\n",
      " [Train  2] is full - only 441 passengers got on from London Old Oak Common\n",
      "06:09:46  [Train  2] departed from London Euston for S2\n",
      "*********************************************************************************\n",
      "399 passengers got off from  [Train  0] in London Old Oak Common\n",
      "*********************************************************************************\n",
      "411 passengers got on into  [Train  0] from S2 \n",
      "06:09:58  [Train  1] departed from S2 for London Old Oak Common\n",
      "06:10:22  [Train  0] departed from London Old Oak Common for S4\n",
      "06:14:34  [Train  2] arrived S2\n",
      "06:14:46  [Train  1] arrived London Old Oak Common\n",
      "06:14:46  [Train  2] departed from S2 for London Old Oak Common\n",
      "*********************************************************************************\n",
      "387 passengers got off from  [Train  1] in London Old Oak Common\n",
      "*********************************************************************************\n",
      " [Train  1] is full - only 400 passengers got on from London Old Oak Common\n",
      "06:15:24  [Train  1] departed from London Old Oak Common for S4\n",
      "06:19:34  [Train  2] arrived London Old Oak Common\n",
      "*********************************************************************************\n",
      "419 passengers got off from  [Train  2] in London Old Oak Common\n",
      "*********************************************************************************\n",
      " [Train  2] is full - only 419 passengers got on from London Old Oak Common\n",
      "06:20:14  [Train  2] departed from London Old Oak Common for S4\n",
      "*********************************************************************************\n",
      " [Train  3] is full - only 441 passengers got on from London Old Oak Common\n",
      "06:27:44  [Train  3] departed from London Euston for S2\n",
      "06:27:45  [Train  0] arrived S4\n",
      "06:27:57  [Train  0] departed from S4 for Birmingham Interchange\n",
      "06:32:32  [Train  3] arrived S2\n",
      "06:32:46  [Train  3] departed from S2 for London Old Oak Common\n",
      "06:32:47  [Train  1] arrived S4\n",
      "06:32:56  [Train  1] departed from S4 for Birmingham Interchange\n",
      "06:37:34  [Train  3] arrived London Old Oak Common\n",
      "06:37:37  [Train  2] arrived S4\n",
      "*********************************************************************************\n",
      "371 passengers got off from  [Train  3] in London Old Oak Common\n",
      "*********************************************************************************\n",
      " [Train  3] is full - only 371 passengers got on from London Old Oak Common\n",
      "06:37:49  [Train  2] departed from S4 for Birmingham Interchange\n",
      "06:38:14  [Train  3] departed from London Old Oak Common for S4\n",
      "*********************************************************************************\n",
      "428 passengers got on into  [Train  4] from London Euston \n",
      "06:45:12  [Train  4] departed from London Euston for S2\n",
      "06:45:20  [Train  0] arrived Birmingham Interchange\n",
      "*********************************************************************************\n",
      "399 passengers got off from  [Train  0] in Birmingham Interchange\n",
      "*********************************************************************************\n",
      "411 passengers got on into  [Train  0] from S4 \n",
      "06:46:04  [Train  0] departed from Birmingham Interchange for S6\n",
      "06:50:00  [Train  4] arrived S2\n",
      "06:50:07  [Train  4] departed from S2 for London Old Oak Common\n",
      "06:50:19  [Train  1] arrived Birmingham Interchange\n",
      "*********************************************************************************\n",
      "387 passengers got off from  [Train  1] in Birmingham Interchange\n",
      "*********************************************************************************\n",
      " [Train  1] is full - only 387 passengers got on from Birmingham Interchange\n",
      "06:51:00  [Train  1] departed from Birmingham Interchange for S6\n",
      "*********************************************************************************\n",
      "411 passengers got on into  [Train  5] from London Euston \n",
      "06:52:23  [Train  5] departed from London Euston for S2\n",
      "06:52:40  [Train  0] arrived S6\n",
      "06:52:48  [Train  0] departed from S6 for S7\n",
      "06:54:55  [Train  4] arrived London Old Oak Common\n",
      "*********************************************************************************\n",
      "389 passengers got off from  [Train  4] in London Old Oak Common\n",
      "*********************************************************************************\n",
      " [Train  4] is full - only 402 passengers got on from London Old Oak Common\n",
      "06:55:12  [Train  2] arrived Birmingham Interchange\n",
      "*********************************************************************************\n",
      "419 passengers got off from  [Train  2] in Birmingham Interchange\n",
      "*********************************************************************************\n",
      " [Train  2] is full - only 419 passengers got on from Birmingham Interchange\n",
      "06:55:29  [Train  4] departed from London Old Oak Common for S4\n",
      "06:55:37  [Train  3] arrived S4\n",
      "06:55:50  [Train  2] departed from Birmingham Interchange for S6\n",
      "06:55:54  [Train  3] departed from S4 for Birmingham Interchange\n",
      "06:57:11  [Train  5] arrived S2\n",
      "06:57:17  [Train  5] departed from S2 for London Old Oak Common\n",
      "06:57:36  [Train  1] arrived S6\n",
      "06:57:45  [Train  1] departed from S6 for S7\n",
      "*********************************************************************************\n",
      " [Train  6] is full - only 441 passengers got on from London Old Oak Common\n",
      "06:59:04  [Train  6] departed from London Euston for S2\n",
      "06:59:24  [Train  0] arrived S7\n",
      "06:59:38  [Train  0] departed from S7 for Birmingham Curzon Street\n",
      "07:02:05  [Train  5] arrived London Old Oak Common\n",
      "*********************************************************************************\n",
      "399 passengers got off from  [Train  5] in London Old Oak Common\n",
      "*********************************************************************************\n",
      "411 passengers got on into  [Train  5] from S2 \n",
      "07:02:26  [Train  2] arrived S6\n",
      "07:02:38  [Train  2] departed from S6 for S7\n",
      "07:02:42  [Train  5] departed from London Old Oak Common for S4\n",
      "07:03:52  [Train  6] arrived S2\n",
      "07:04:03  [Train  6] departed from S2 for London Old Oak Common\n",
      "07:04:21  [Train  1] arrived S7\n",
      "07:04:27  [Train  1] departed from S7 for Birmingham Curzon Street\n",
      "07:06:14  [Train  0] arrived Birmingham Curzon Street\n",
      "*********************************************************************************\n",
      "435 passengers got off from  [Train  0] in Birmingham Curzon Street\n",
      "07:08:51  [Train  6] arrived London Old Oak Common\n",
      "*********************************************************************************\n",
      "415 passengers got off from  [Train  6] in London Old Oak Common\n",
      "*********************************************************************************\n",
      " [Train  6] is full - only 415 passengers got on from London Old Oak Common\n",
      "07:09:14  [Train  2] arrived S7\n",
      "07:09:18  [Train  2] departed from S7 for Birmingham Curzon Street\n",
      "07:09:37  [Train  6] departed from London Old Oak Common for S4\n",
      "07:11:03  [Train  1] arrived Birmingham Curzon Street\n",
      "*********************************************************************************\n",
      "  [Train  1] is empty - only 441 passengers got off in Birmingham Curzon Street\n",
      "07:12:52  [Train  4] arrived S4\n",
      "07:13:01  [Train  4] departed from S4 for Birmingham Interchange\n",
      "07:13:17  [Train  3] arrived Birmingham Interchange\n",
      "*********************************************************************************\n",
      "371 passengers got off from  [Train  3] in Birmingham Interchange\n",
      "*********************************************************************************\n",
      " [Train  3] is full - only 371 passengers got on from Birmingham Interchange\n",
      "07:13:58  [Train  3] departed from Birmingham Interchange for S6\n",
      "07:15:54  [Train  2] arrived Birmingham Curzon Street\n",
      "*********************************************************************************\n",
      "  [Train  2] is empty - only 441 passengers got off in Birmingham Curzon Street\n",
      "07:20:05  [Train  5] arrived S4\n",
      "07:20:11  [Train  5] departed from S4 for Birmingham Interchange\n",
      "07:20:34  [Train  3] arrived S6\n",
      "07:20:40  [Train  3] departed from S6 for S7\n",
      "07:27:00  [Train  6] arrived S4\n",
      "07:27:08  [Train  6] departed from S4 for Birmingham Interchange\n",
      "07:27:16  [Train  3] arrived S7\n",
      "07:27:25  [Train  3] departed from S7 for Birmingham Curzon Street\n",
      "07:30:24  [Train  4] arrived Birmingham Interchange\n",
      "*********************************************************************************\n",
      "389 passengers got off from  [Train  4] in Birmingham Interchange\n",
      "*********************************************************************************\n",
      " [Train  4] is full - only 389 passengers got on from Birmingham Interchange\n",
      "07:31:00  [Train  4] departed from Birmingham Interchange for S6\n",
      "07:34:01  [Train  3] arrived Birmingham Curzon Street\n",
      "*********************************************************************************\n",
      "  [Train  3] is empty - only 441 passengers got off in Birmingham Curzon Street\n",
      "07:37:34  [Train  5] arrived Birmingham Interchange\n",
      "07:37:36  [Train  4] arrived S6\n",
      "07:37:43  [Train  4] departed from S6 for S7\n",
      "*********************************************************************************\n",
      "399 passengers got off from  [Train  5] in Birmingham Interchange\n",
      "*********************************************************************************\n",
      "411 passengers got on into  [Train  5] from S4 \n",
      "07:38:15  [Train  5] departed from Birmingham Interchange for S6\n",
      "07:44:19  [Train  4] arrived S7\n",
      "07:44:31  [Train  6] arrived Birmingham Interchange\n",
      "07:44:32  [Train  4] departed from S7 for Birmingham Curzon Street\n",
      "*********************************************************************************\n",
      "415 passengers got off from  [Train  6] in Birmingham Interchange\n",
      "*********************************************************************************\n",
      " [Train  6] is full - only 415 passengers got on from Birmingham Interchange\n",
      "07:44:51  [Train  5] arrived S6\n",
      "07:44:59  [Train  5] departed from S6 for S7\n",
      "07:45:11  [Train  6] departed from Birmingham Interchange for S6\n",
      "07:51:08  [Train  4] arrived Birmingham Curzon Street\n",
      "*********************************************************************************\n",
      "  [Train  4] is empty - only 441 passengers got off in Birmingham Curzon Street\n",
      "07:51:35  [Train  5] arrived S7\n",
      "07:51:42  [Train  5] departed from S7 for Birmingham Curzon Street\n",
      "07:51:47  [Train  6] arrived S6\n",
      "07:51:58  [Train  6] departed from S6 for S7\n",
      "07:58:18  [Train  5] arrived Birmingham Curzon Street\n",
      "*********************************************************************************\n",
      "435 passengers got off from  [Train  5] in Birmingham Curzon Street\n",
      "07:58:34  [Train  6] arrived S7\n",
      "07:58:42  [Train  6] departed from S7 for Birmingham Curzon Street\n",
      "08:05:18  [Train  6] arrived Birmingham Curzon Street\n",
      "*********************************************************************************\n",
      "  [Train  6] is empty - only 441 passengers got off in Birmingham Curzon Street\n"
     ]
    }
   ],
   "source": [
    "env.run()"
   ]
  },
  {
   "cell_type": "markdown",
   "metadata": {},
   "source": [
    "<font size=\"3\">Train count from previous fucntion is stored in the variable trains.</font>"
   ]
  },
  {
   "cell_type": "code",
   "execution_count": 24,
   "metadata": {},
   "outputs": [
    {
     "data": {
      "text/plain": [
       "7"
      ]
     },
     "execution_count": 24,
     "metadata": {},
     "output_type": "execute_result"
    }
   ],
   "source": [
    "trains = count\n",
    "trains"
   ]
  },
  {
   "cell_type": "markdown",
   "metadata": {},
   "source": [
    "<font size=\"3\">Average driving time for number of trains per hour is aggregated and stored in total_driving_time</font>"
   ]
  },
  {
   "cell_type": "code",
   "execution_count": 25,
   "metadata": {},
   "outputs": [
    {
     "data": {
      "text/plain": [
       "3850.0"
      ]
     },
     "execution_count": 25,
     "metadata": {},
     "output_type": "execute_result"
    }
   ],
   "source": [
    "# Total drive time is aggregated\n",
    "total_driving_time = sum(data['Drive_Time'])\n",
    "total_driving_time"
   ]
  },
  {
   "cell_type": "markdown",
   "metadata": {},
   "source": [
    "<font size=\"3\">Number of blocks by varying the inputs</font>"
   ]
  },
  {
   "cell_type": "code",
   "execution_count": 26,
   "metadata": {},
   "outputs": [
    {
     "data": {
      "text/plain": [
       "7"
      ]
     },
     "execution_count": 26,
     "metadata": {},
     "output_type": "execute_result"
    }
   ],
   "source": [
    "train_blocks = len(data['block_number'])\n",
    "train_blocks"
   ]
  },
  {
   "cell_type": "markdown",
   "metadata": {},
   "source": [
    "<font size=\"3\">The below for loop gives the total number of passengers of all trains that travelled in an hour.</font>"
   ]
  },
  {
   "cell_type": "code",
   "execution_count": 27,
   "metadata": {},
   "outputs": [
    {
     "name": "stdout",
     "output_type": "stream",
     "text": [
      "9090\n"
     ]
    }
   ],
   "source": [
    "tot = 0\n",
    "for index, element in enumerate(pass_list):\n",
    "    if index <= trains:\n",
    "        tot += element\n",
    "print(tot)"
   ]
  },
  {
   "cell_type": "code",
   "execution_count": 28,
   "metadata": {},
   "outputs": [
    {
     "name": "stdout",
     "output_type": "stream",
     "text": [
      "7\n",
      "3850.0\n",
      "7\n",
      "9090\n"
     ]
    }
   ],
   "source": [
    "# Final Simulation result sample\n",
    "print(trains)\n",
    "print(total_driving_time)\n",
    "print(train_blocks)\n",
    "print(tot)"
   ]
  },
  {
   "cell_type": "code",
   "execution_count": 29,
   "metadata": {},
   "outputs": [],
   "source": [
    "#simulation_data = pd.DataFrame()"
   ]
  },
  {
   "cell_type": "markdown",
   "metadata": {},
   "source": [
    "<font size=\"3\">The final output from simulation stored in a CSV file for applying various optimization technique for Minimizing average travelling and maximizing the number of passengers.</font>"
   ]
  },
  {
   "cell_type": "code",
   "execution_count": null,
   "metadata": {},
   "outputs": [],
   "source": [
    "pd.options.display.float_format = '{:,.0f}'.format\n",
    "simulation_data.at[i, 'total_blocks'] = train_blocks\n",
    "simulation_data.at[i, 'total_trains_per_hour'] = trains\n",
    "simulation_data.at[i, 'total_driving_time'] = total_driving_time\n",
    "simulation_data.at[i, 'total_passengers_per_hour'] = tot"
   ]
  },
  {
   "cell_type": "code",
   "execution_count": 35,
   "metadata": {},
   "outputs": [],
   "source": [
    "simulation_data = simulation_data.reset_index(drop=True)"
   ]
  },
  {
   "cell_type": "markdown",
   "metadata": {},
   "source": [
    "## Final Simulation Result"
   ]
  },
  {
   "cell_type": "code",
   "execution_count": 84,
   "metadata": {},
   "outputs": [
    {
     "data": {
      "text/html": [
       "<div>\n",
       "<style scoped>\n",
       "    .dataframe tbody tr th:only-of-type {\n",
       "        vertical-align: middle;\n",
       "    }\n",
       "\n",
       "    .dataframe tbody tr th {\n",
       "        vertical-align: top;\n",
       "    }\n",
       "\n",
       "    .dataframe thead th {\n",
       "        text-align: right;\n",
       "    }\n",
       "</style>\n",
       "<table border=\"1\" class=\"dataframe\">\n",
       "  <thead>\n",
       "    <tr style=\"text-align: right;\">\n",
       "      <th></th>\n",
       "      <th>total_blocks</th>\n",
       "      <th>total_trains_per_hour</th>\n",
       "      <th>total_driving_time</th>\n",
       "      <th>total_passengers_per_hour</th>\n",
       "    </tr>\n",
       "  </thead>\n",
       "  <tbody>\n",
       "    <tr>\n",
       "      <th>0</th>\n",
       "      <td>4</td>\n",
       "      <td>7</td>\n",
       "      <td>3,850</td>\n",
       "      <td>9,339</td>\n",
       "    </tr>\n",
       "    <tr>\n",
       "      <th>1</th>\n",
       "      <td>5</td>\n",
       "      <td>7</td>\n",
       "      <td>4,023</td>\n",
       "      <td>10,299</td>\n",
       "    </tr>\n",
       "    <tr>\n",
       "      <th>2</th>\n",
       "      <td>6</td>\n",
       "      <td>8</td>\n",
       "      <td>4,196</td>\n",
       "      <td>12,027</td>\n",
       "    </tr>\n",
       "    <tr>\n",
       "      <th>3</th>\n",
       "      <td>7</td>\n",
       "      <td>8</td>\n",
       "      <td>4,369</td>\n",
       "      <td>11,979</td>\n",
       "    </tr>\n",
       "    <tr>\n",
       "      <th>4</th>\n",
       "      <td>8</td>\n",
       "      <td>9</td>\n",
       "      <td>4,542</td>\n",
       "      <td>13,122</td>\n",
       "    </tr>\n",
       "    <tr>\n",
       "      <th>5</th>\n",
       "      <td>9</td>\n",
       "      <td>9</td>\n",
       "      <td>4,718</td>\n",
       "      <td>13,146</td>\n",
       "    </tr>\n",
       "    <tr>\n",
       "      <th>6</th>\n",
       "      <td>10</td>\n",
       "      <td>10</td>\n",
       "      <td>4,892</td>\n",
       "      <td>15,030</td>\n",
       "    </tr>\n",
       "    <tr>\n",
       "      <th>7</th>\n",
       "      <td>11</td>\n",
       "      <td>11</td>\n",
       "      <td>5,058</td>\n",
       "      <td>15,531</td>\n",
       "    </tr>\n",
       "    <tr>\n",
       "      <th>8</th>\n",
       "      <td>12</td>\n",
       "      <td>11</td>\n",
       "      <td>5,234</td>\n",
       "      <td>16,278</td>\n",
       "    </tr>\n",
       "    <tr>\n",
       "      <th>9</th>\n",
       "      <td>13</td>\n",
       "      <td>9</td>\n",
       "      <td>6,725</td>\n",
       "      <td>12,999</td>\n",
       "    </tr>\n",
       "    <tr>\n",
       "      <th>10</th>\n",
       "      <td>14</td>\n",
       "      <td>9</td>\n",
       "      <td>6,936</td>\n",
       "      <td>12,834</td>\n",
       "    </tr>\n",
       "    <tr>\n",
       "      <th>11</th>\n",
       "      <td>15</td>\n",
       "      <td>10</td>\n",
       "      <td>7,146</td>\n",
       "      <td>14,313</td>\n",
       "    </tr>\n",
       "    <tr>\n",
       "      <th>12</th>\n",
       "      <td>16</td>\n",
       "      <td>10</td>\n",
       "      <td>7,350</td>\n",
       "      <td>14,745</td>\n",
       "    </tr>\n",
       "    <tr>\n",
       "      <th>13</th>\n",
       "      <td>17</td>\n",
       "      <td>10</td>\n",
       "      <td>7,554</td>\n",
       "      <td>14,643</td>\n",
       "    </tr>\n",
       "  </tbody>\n",
       "</table>\n",
       "</div>"
      ],
      "text/plain": [
       "    total_blocks  total_trains_per_hour  total_driving_time  \\\n",
       "0              4                      7               3,850   \n",
       "1              5                      7               4,023   \n",
       "2              6                      8               4,196   \n",
       "3              7                      8               4,369   \n",
       "4              8                      9               4,542   \n",
       "5              9                      9               4,718   \n",
       "6             10                     10               4,892   \n",
       "7             11                     11               5,058   \n",
       "8             12                     11               5,234   \n",
       "9             13                      9               6,725   \n",
       "10            14                      9               6,936   \n",
       "11            15                     10               7,146   \n",
       "12            16                     10               7,350   \n",
       "13            17                     10               7,554   \n",
       "\n",
       "    total_passengers_per_hour  \n",
       "0                       9,339  \n",
       "1                      10,299  \n",
       "2                      12,027  \n",
       "3                      11,979  \n",
       "4                      13,122  \n",
       "5                      13,146  \n",
       "6                      15,030  \n",
       "7                      15,531  \n",
       "8                      16,278  \n",
       "9                      12,999  \n",
       "10                     12,834  \n",
       "11                     14,313  \n",
       "12                     14,745  \n",
       "13                     14,643  "
      ]
     },
     "execution_count": 84,
     "metadata": {},
     "output_type": "execute_result"
    }
   ],
   "source": [
    "simulation_data"
   ]
  },
  {
   "cell_type": "code",
   "execution_count": 34,
   "metadata": {},
   "outputs": [],
   "source": [
    "#simulation_data.to_csv('D:/MSC_DA_SEM_2/MSO/simulation_result.csv', index=False)"
   ]
  },
  {
   "cell_type": "markdown",
   "metadata": {},
   "source": [
    "## Conclusion\n",
    "\n",
    "<font size=\"3\">From this simulation results, by varying the values of the number of blocks (k) between __London Old Oak Common and Birmingham Interchange__ the number of trains per hour varied from 7 to 11 per hour. The major challenge of this simulation is to attain a maximum number of passengers travelled in an hour and an average travelling time of the trains per hour is implemented successfully. The final result from the simulation is tabulated and took forward for optimization.</font>"
   ]
  }
 ],
 "metadata": {
  "kernelspec": {
   "display_name": "Python 3",
   "language": "python",
   "name": "python3"
  },
  "language_info": {
   "codemirror_mode": {
    "name": "ipython",
    "version": 3
   },
   "file_extension": ".py",
   "mimetype": "text/x-python",
   "name": "python",
   "nbconvert_exporter": "python",
   "pygments_lexer": "ipython3",
   "version": "3.7.5"
  },
  "toc": {
   "base_numbering": "1",
   "nav_menu": {},
   "number_sections": true,
   "sideBar": true,
   "skip_h1_title": true,
   "title_cell": "Table of Contents",
   "title_sidebar": "Contents",
   "toc_cell": true,
   "toc_position": {
    "height": "178px",
    "left": "22px",
    "top": "110px",
    "width": "338px"
   },
   "toc_section_display": true,
   "toc_window_display": true
  }
 },
 "nbformat": 4,
 "nbformat_minor": 4
}
